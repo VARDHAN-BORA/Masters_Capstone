{
  "nbformat": 4,
  "nbformat_minor": 0,
  "metadata": {
    "colab": {
      "provenance": [],
      "machine_shape": "hm",
      "gpuType": "T4"
    },
    "kernelspec": {
      "name": "python3",
      "display_name": "Python 3"
    },
    "language_info": {
      "name": "python"
    },
    "accelerator": "GPU"
  },
  "cells": [
    {
      "cell_type": "code",
      "execution_count": null,
      "metadata": {
        "colab": {
          "base_uri": "https://localhost:8080/"
        },
        "id": "_4oDDr9wAQKN",
        "outputId": "d9cedfd7-c5f1-4d03-cdb0-095704aa3ab4"
      },
      "outputs": [
        {
          "output_type": "stream",
          "name": "stdout",
          "text": [
            "Requirement already satisfied: requests in /usr/local/lib/python3.11/dist-packages (2.32.3)\n",
            "Requirement already satisfied: pandas in /usr/local/lib/python3.11/dist-packages (2.2.2)\n",
            "Requirement already satisfied: tqdm in /usr/local/lib/python3.11/dist-packages (4.67.1)\n",
            "Requirement already satisfied: charset-normalizer<4,>=2 in /usr/local/lib/python3.11/dist-packages (from requests) (3.4.1)\n",
            "Requirement already satisfied: idna<4,>=2.5 in /usr/local/lib/python3.11/dist-packages (from requests) (3.10)\n",
            "Requirement already satisfied: urllib3<3,>=1.21.1 in /usr/local/lib/python3.11/dist-packages (from requests) (2.3.0)\n",
            "Requirement already satisfied: certifi>=2017.4.17 in /usr/local/lib/python3.11/dist-packages (from requests) (2025.1.31)\n",
            "Requirement already satisfied: numpy>=1.23.2 in /usr/local/lib/python3.11/dist-packages (from pandas) (2.0.2)\n",
            "Requirement already satisfied: python-dateutil>=2.8.2 in /usr/local/lib/python3.11/dist-packages (from pandas) (2.8.2)\n",
            "Requirement already satisfied: pytz>=2020.1 in /usr/local/lib/python3.11/dist-packages (from pandas) (2025.2)\n",
            "Requirement already satisfied: tzdata>=2022.7 in /usr/local/lib/python3.11/dist-packages (from pandas) (2025.2)\n",
            "Requirement already satisfied: six>=1.5 in /usr/local/lib/python3.11/dist-packages (from python-dateutil>=2.8.2->pandas) (1.17.0)\n"
          ]
        }
      ],
      "source": [
        "!pip install requests pandas tqdm"
      ]
    },
    {
      "cell_type": "code",
      "source": [
        "import pandas as pd\n",
        "import numpy as np\n",
        "from math import radians, sin, cos, sqrt, atan2\n"
      ],
      "metadata": {
        "id": "IzEMTfiwBDW9"
      },
      "execution_count": null,
      "outputs": []
    },
    {
      "cell_type": "code",
      "source": [
        "# station dataset\n",
        "main_df = pd.read_csv(\"/content/drive/MyDrive/manhattan_stations_.csv\")\n",
        "\n",
        "# Formatted datasets (previously prepared)\n",
        "parks_df = pd.read_csv(\"/content/drive/MyDrive/Formatted_Manhattan_Parks_Dataset.csv\")\n",
        "libraries_df = pd.read_csv(\"/content/drive/MyDrive/Updated_Manhattan_Libraries_Dataset.csv\")\n",
        "colleges_df = pd.read_csv(\"/content/drive/MyDrive/Formatted_Manhattan_Colleges_Dataset.csv\")\n",
        "attractions_df = pd.read_csv(\"/content/drive/MyDrive/Formatted_Manhattan_Tourist_Attractions_Dataset.csv\")\n",
        "athletics_df = pd.read_csv(\"/content/drive/MyDrive/Formatted_Manhattan_Athletic_Facilities_Dataset.csv\")\n"
      ],
      "metadata": {
        "id": "U7qg7y1AAW71"
      },
      "execution_count": null,
      "outputs": []
    },
    {
      "cell_type": "code",
      "source": [
        "def haversine_np(lat1, lon1, lat2, lon2):\n",
        "    R = 6371000  # Earth radius in meters\n",
        "    phi1 = np.radians(lat1)\n",
        "    phi2 = np.radians(lat2)\n",
        "    d_phi = np.radians(lat2 - lat1)\n",
        "    d_lambda = np.radians(lon2 - lon1)\n",
        "\n",
        "    a = np.sin(d_phi / 2.0) ** 2 + np.cos(phi1) * np.cos(phi2) * np.sin(d_lambda / 2.0) ** 2\n",
        "    c = 2 * np.arctan2(np.sqrt(a), np.sqrt(1 - a))\n",
        "    return R * c  # returns distance in meters\n"
      ],
      "metadata": {
        "id": "IJ0wD1awBL12"
      },
      "execution_count": null,
      "outputs": []
    },
    {
      "cell_type": "code",
      "source": [
        "# Convert each location dataset to (lat, lng) arrays\n",
        "datasets = {\n",
        "    'Parks': parks_df[['START_LAT', 'START_LNG']].values,\n",
        "    'Libraries': libraries_df[['START_LAT', 'START_LNG']].values,\n",
        "    'Colleges': colleges_df[['START_LAT', 'START_LNG']].values,\n",
        "    'Attractions': attractions_df[['START_LAT', 'START_LNG']].values,\n",
        "    'Athletics': athletics_df[['START_LAT', 'START_LNG']].values,\n",
        "}\n"
      ],
      "metadata": {
        "id": "-sAcev0wBRPo"
      },
      "execution_count": null,
      "outputs": []
    },
    {
      "cell_type": "code",
      "source": [
        "# Extract main station coordinates\n",
        "main_coords = main_df[['start_station_id', 'start_lat', 'start_lng']].values\n",
        "\n",
        "# Prepare result list\n",
        "results = []\n",
        "\n",
        "for idx, (station_id, lat1, lng1) in enumerate(main_coords):\n",
        "    row = {'station_id': station_id}\n",
        "    for label, points in datasets.items():\n",
        "        distances = haversine_np(lat1, lng1, points[:, 0], points[:, 1])\n",
        "        row[f'{label}_500m'] = np.sum(distances <= 500)\n",
        "    results.append(row)\n",
        "\n",
        "    if idx % 50 == 0:\n",
        "        print(f\"Processed {idx + 1} / {len(main_coords)} stations...\")"
      ],
      "metadata": {
        "colab": {
          "base_uri": "https://localhost:8080/"
        },
        "id": "MBIwZCEPBRNM",
        "outputId": "a55f82ca-b06e-4d1e-d188-808dae6a71c7"
      },
      "execution_count": null,
      "outputs": [
        {
          "output_type": "stream",
          "name": "stdout",
          "text": [
            "Processed 1 / 1715 stations...\n",
            "Processed 51 / 1715 stations...\n",
            "Processed 101 / 1715 stations...\n",
            "Processed 151 / 1715 stations...\n",
            "Processed 201 / 1715 stations...\n",
            "Processed 251 / 1715 stations...\n",
            "Processed 301 / 1715 stations...\n",
            "Processed 351 / 1715 stations...\n",
            "Processed 401 / 1715 stations...\n",
            "Processed 451 / 1715 stations...\n",
            "Processed 501 / 1715 stations...\n",
            "Processed 551 / 1715 stations...\n",
            "Processed 601 / 1715 stations...\n",
            "Processed 651 / 1715 stations...\n",
            "Processed 701 / 1715 stations...\n",
            "Processed 751 / 1715 stations...\n",
            "Processed 801 / 1715 stations...\n",
            "Processed 851 / 1715 stations...\n",
            "Processed 901 / 1715 stations...\n",
            "Processed 951 / 1715 stations...\n",
            "Processed 1001 / 1715 stations...\n",
            "Processed 1051 / 1715 stations...\n",
            "Processed 1101 / 1715 stations...\n",
            "Processed 1151 / 1715 stations...\n",
            "Processed 1201 / 1715 stations...\n",
            "Processed 1251 / 1715 stations...\n",
            "Processed 1301 / 1715 stations...\n",
            "Processed 1351 / 1715 stations...\n",
            "Processed 1401 / 1715 stations...\n",
            "Processed 1451 / 1715 stations...\n",
            "Processed 1501 / 1715 stations...\n",
            "Processed 1551 / 1715 stations...\n",
            "Processed 1601 / 1715 stations...\n",
            "Processed 1651 / 1715 stations...\n",
            "Processed 1701 / 1715 stations...\n"
          ]
        }
      ]
    },
    {
      "cell_type": "code",
      "source": [
        "# Step 6: Save Results\n",
        "print(\" Saving results to DataFrame and exporting to CSV...\")\n",
        "\n",
        "summary_df = pd.DataFrame(results)\n",
        "summary_df.to_csv(\"proximity_summary_by_station.csv\", index=False)\n",
        "\n",
        "print(\" Proximity analysis complete.\")\n",
        "print(\" Output file: summary_by_station_using_urban_features.csv\")\n",
        "print(summary_df.head())\n"
      ],
      "metadata": {
        "colab": {
          "base_uri": "https://localhost:8080/"
        },
        "id": "bIecpQTfBRKs",
        "outputId": "3093ee0c-12c0-48f7-db4a-4e989000aa6d"
      },
      "execution_count": null,
      "outputs": [
        {
          "output_type": "stream",
          "name": "stdout",
          "text": [
            " Saving results to DataFrame and exporting to CSV...\n",
            " Proximity analysis complete.\n",
            " Output file: summary_by_station_using_urban_features.csv\n",
            "  station_id  Parks_500m  Libraries_500m  Colleges_500m  Attractions_500m  \\\n",
            "0    4818.03           0               0              0                 0   \n",
            "1    4821.03           0               0              0                 0   \n",
            "2     4821.1           0               0              0                 0   \n",
            "3    4829.01           0               0              0                 1   \n",
            "4    4832.07           0               0              0                 0   \n",
            "\n",
            "   Athletics_500m  \n",
            "0               0  \n",
            "1               0  \n",
            "2               0  \n",
            "3               0  \n",
            "4               0  \n"
          ]
        }
      ]
    },
    {
      "cell_type": "code",
      "source": [],
      "metadata": {
        "id": "yPz8-GYuBRGJ"
      },
      "execution_count": null,
      "outputs": []
    },
    {
      "cell_type": "code",
      "source": [],
      "metadata": {
        "id": "fKKK6Ta8BRCw"
      },
      "execution_count": null,
      "outputs": []
    },
    {
      "cell_type": "code",
      "source": [],
      "metadata": {
        "id": "g8lNcEuwBRAP"
      },
      "execution_count": null,
      "outputs": []
    },
    {
      "cell_type": "code",
      "source": [],
      "metadata": {
        "id": "bQZrxnSBBQ2l"
      },
      "execution_count": null,
      "outputs": []
    },
    {
      "cell_type": "code",
      "source": [],
      "metadata": {
        "id": "C3KfvJaQBQoj"
      },
      "execution_count": null,
      "outputs": []
    }
  ]
}